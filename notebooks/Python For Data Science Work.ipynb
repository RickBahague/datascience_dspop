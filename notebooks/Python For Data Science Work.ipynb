{
 "cells": [
  {
   "cell_type": "markdown",
   "metadata": {
    "collapsed": true
   },
   "source": [
    "Import pandas and numpy"
   ]
  },
  {
   "cell_type": "code",
   "execution_count": 1,
   "metadata": {
    "collapsed": false
   },
   "outputs": [],
   "source": [
    "import pandas as pd\n",
    "import numpy as np\n",
    "from ggplot import *\n",
    "import matplotlib\n",
    "matplotlib.style.use('ggplot') "
   ]
  },
  {
   "cell_type": "markdown",
   "metadata": {},
   "source": [
    "Test some python easter egg"
   ]
  },
  {
   "cell_type": "code",
   "execution_count": 2,
   "metadata": {
    "collapsed": false
   },
   "outputs": [
    {
     "name": "stdout",
     "output_type": "stream",
     "text": [
      "Hello world...\n"
     ]
    }
   ],
   "source": [
    "import __hello__"
   ]
  },
  {
   "cell_type": "code",
   "execution_count": 3,
   "metadata": {
    "collapsed": false
   },
   "outputs": [
    {
     "name": "stdout",
     "output_type": "stream",
     "text": [
      "The Zen of Python, by Tim Peters\n",
      "\n",
      "Beautiful is better than ugly.\n",
      "Explicit is better than implicit.\n",
      "Simple is better than complex.\n",
      "Complex is better than complicated.\n",
      "Flat is better than nested.\n",
      "Sparse is better than dense.\n",
      "Readability counts.\n",
      "Special cases aren't special enough to break the rules.\n",
      "Although practicality beats purity.\n",
      "Errors should never pass silently.\n",
      "Unless explicitly silenced.\n",
      "In the face of ambiguity, refuse the temptation to guess.\n",
      "There should be one-- and preferably only one --obvious way to do it.\n",
      "Although that way may not be obvious at first unless you're Dutch.\n",
      "Now is better than never.\n",
      "Although never is often better than *right* now.\n",
      "If the implementation is hard to explain, it's a bad idea.\n",
      "If the implementation is easy to explain, it may be a good idea.\n",
      "Namespaces are one honking great idea -- let's do more of those!\n"
     ]
    }
   ],
   "source": [
    "import this"
   ]
  },
  {
   "cell_type": "markdown",
   "metadata": {
    "collapsed": true
   },
   "source": [
    "### Data Preparation with Pandas "
   ]
  },
  {
   "cell_type": "markdown",
   "metadata": {},
   "source": [
    "Data taken from Github: https://github.com/veekun/pokedex"
   ]
  },
  {
   "cell_type": "code",
   "execution_count": 6,
   "metadata": {
    "collapsed": true
   },
   "outputs": [],
   "source": [
    "path = \"../pokedex/pokedex/data/csv/\""
   ]
  },
  {
   "cell_type": "markdown",
   "metadata": {},
   "source": [
    "Load data"
   ]
  },
  {
   "cell_type": "code",
   "execution_count": 7,
   "metadata": {
    "collapsed": false
   },
   "outputs": [],
   "source": [
    "pokemons = pd.read_csv(path + \"pokemon.csv\",sep=\",\")\n",
    "pokemon_species_names = pd.read_csv(path + \"pokemon_species_names.csv\",sep=\",\")\n",
    "pokemon_species = pd.read_csv(path + \"pokemon_species.csv\",sep=\",\")\n",
    "generation_names = pd.read_csv(path + \"generation_names.csv\", sep=\",\")\n",
    "habitat = pd.read_csv(path + \"pokemon_habitats.csv\")"
   ]
  },
  {
   "cell_type": "markdown",
   "metadata": {},
   "source": [
    "### Series and DataFrames"
   ]
  },
  {
   "cell_type": "code",
   "execution_count": 8,
   "metadata": {
    "collapsed": false
   },
   "outputs": [
    {
     "data": {
      "text/plain": [
       "pandas.core.frame.DataFrame"
      ]
     },
     "execution_count": 8,
     "metadata": {},
     "output_type": "execute_result"
    }
   ],
   "source": [
    "type(pokemons)"
   ]
  },
  {
   "cell_type": "code",
   "execution_count": 9,
   "metadata": {
    "collapsed": false
   },
   "outputs": [
    {
     "data": {
      "text/html": [
       "<div>\n",
       "<table border=\"1\" class=\"dataframe\">\n",
       "  <thead>\n",
       "    <tr style=\"text-align: right;\">\n",
       "      <th></th>\n",
       "      <th>id</th>\n",
       "      <th>identifier</th>\n",
       "      <th>species_id</th>\n",
       "      <th>height</th>\n",
       "      <th>weight</th>\n",
       "      <th>base_experience</th>\n",
       "      <th>order</th>\n",
       "      <th>is_default</th>\n",
       "    </tr>\n",
       "  </thead>\n",
       "  <tbody>\n",
       "    <tr>\n",
       "      <th>0</th>\n",
       "      <td>1</td>\n",
       "      <td>bulbasaur</td>\n",
       "      <td>1</td>\n",
       "      <td>7</td>\n",
       "      <td>69</td>\n",
       "      <td>64</td>\n",
       "      <td>1</td>\n",
       "      <td>1</td>\n",
       "    </tr>\n",
       "    <tr>\n",
       "      <th>1</th>\n",
       "      <td>2</td>\n",
       "      <td>ivysaur</td>\n",
       "      <td>2</td>\n",
       "      <td>10</td>\n",
       "      <td>130</td>\n",
       "      <td>142</td>\n",
       "      <td>2</td>\n",
       "      <td>1</td>\n",
       "    </tr>\n",
       "  </tbody>\n",
       "</table>\n",
       "</div>"
      ],
      "text/plain": [
       "   id identifier  species_id  height  weight  base_experience  order  \\\n",
       "0   1  bulbasaur           1       7      69               64      1   \n",
       "1   2    ivysaur           2      10     130              142      2   \n",
       "\n",
       "   is_default  \n",
       "0           1  \n",
       "1           1  "
      ]
     },
     "execution_count": 9,
     "metadata": {},
     "output_type": "execute_result"
    }
   ],
   "source": [
    "pokemons.head(2)"
   ]
  },
  {
   "cell_type": "code",
   "execution_count": 11,
   "metadata": {
    "collapsed": false
   },
   "outputs": [
    {
     "data": {
      "text/plain": [
       "Index([u'id', u'identifier', u'species_id', u'height', u'weight',\n",
       "       u'base_experience', u'order', u'is_default'],\n",
       "      dtype='object')"
      ]
     },
     "execution_count": 11,
     "metadata": {},
     "output_type": "execute_result"
    }
   ],
   "source": [
    "pokemons.columns"
   ]
  },
  {
   "cell_type": "code",
   "execution_count": 12,
   "metadata": {
    "collapsed": false
   },
   "outputs": [
    {
     "data": {
      "text/plain": [
       "id                  int64\n",
       "identifier         object\n",
       "species_id          int64\n",
       "height              int64\n",
       "weight              int64\n",
       "base_experience     int64\n",
       "order               int64\n",
       "is_default          int64\n",
       "dtype: object"
      ]
     },
     "execution_count": 12,
     "metadata": {},
     "output_type": "execute_result"
    }
   ],
   "source": [
    "pokemons.dtypes"
   ]
  },
  {
   "cell_type": "code",
   "execution_count": 13,
   "metadata": {
    "collapsed": false
   },
   "outputs": [
    {
     "data": {
      "text/plain": [
       "(pandas.core.series.Series, pandas.core.series.Series)"
      ]
     },
     "execution_count": 13,
     "metadata": {},
     "output_type": "execute_result"
    }
   ],
   "source": [
    "type(pokemons['identifier']), type(pokemons.identifier)"
   ]
  },
  {
   "cell_type": "code",
   "execution_count": 14,
   "metadata": {
    "collapsed": false
   },
   "outputs": [
    {
     "data": {
      "text/plain": [
       "0     bulbasaur\n",
       "1       ivysaur\n",
       "2      venusaur\n",
       "3    charmander\n",
       "4    charmeleon\n",
       "Name: identifier, dtype: object"
      ]
     },
     "execution_count": 14,
     "metadata": {},
     "output_type": "execute_result"
    }
   ],
   "source": [
    "pokemons.identifier.head(5)"
   ]
  },
  {
   "cell_type": "markdown",
   "metadata": {},
   "source": [
    "### Selecting Internal Elements"
   ]
  },
  {
   "cell_type": "code",
   "execution_count": 15,
   "metadata": {
    "collapsed": false
   },
   "outputs": [
    {
     "data": {
      "text/plain": [
       "id                         1\n",
       "identifier         bulbasaur\n",
       "species_id                 1\n",
       "height                     7\n",
       "weight                    69\n",
       "base_experience           64\n",
       "order                      1\n",
       "is_default                 1\n",
       "Name: 0, dtype: object"
      ]
     },
     "execution_count": 15,
     "metadata": {},
     "output_type": "execute_result"
    }
   ],
   "source": [
    "pokemons.ix[0]"
   ]
  },
  {
   "cell_type": "code",
   "execution_count": 16,
   "metadata": {
    "collapsed": false
   },
   "outputs": [
    {
     "data": {
      "text/plain": [
       "0     bulbasaur\n",
       "1       ivysaur\n",
       "2      venusaur\n",
       "3    charmander\n",
       "4    charmeleon\n",
       "Name: identifier, dtype: object"
      ]
     },
     "execution_count": 16,
     "metadata": {},
     "output_type": "execute_result"
    }
   ],
   "source": [
    "pokemons['identifier'].head(5)"
   ]
  },
  {
   "cell_type": "code",
   "execution_count": 17,
   "metadata": {
    "collapsed": false
   },
   "outputs": [
    {
     "data": {
      "text/plain": [
       "69"
      ]
     },
     "execution_count": 17,
     "metadata": {},
     "output_type": "execute_result"
    }
   ],
   "source": [
    "pokemons.ix[0,'weight']"
   ]
  },
  {
   "cell_type": "markdown",
   "metadata": {},
   "source": [
    "### Assigning Values"
   ]
  },
  {
   "cell_type": "code",
   "execution_count": 22,
   "metadata": {
    "collapsed": true
   },
   "outputs": [],
   "source": [
    "pokemons['new_column'] = 'MGA POGING POKEMON'"
   ]
  },
  {
   "cell_type": "code",
   "execution_count": 23,
   "metadata": {
    "collapsed": false
   },
   "outputs": [
    {
     "data": {
      "text/html": [
       "<div>\n",
       "<table border=\"1\" class=\"dataframe\">\n",
       "  <thead>\n",
       "    <tr style=\"text-align: right;\">\n",
       "      <th></th>\n",
       "      <th>id</th>\n",
       "      <th>identifier</th>\n",
       "      <th>species_id</th>\n",
       "      <th>height</th>\n",
       "      <th>weight</th>\n",
       "      <th>base_experience</th>\n",
       "      <th>order</th>\n",
       "      <th>is_default</th>\n",
       "      <th>new_column</th>\n",
       "    </tr>\n",
       "  </thead>\n",
       "  <tbody>\n",
       "    <tr>\n",
       "      <th>0</th>\n",
       "      <td>1</td>\n",
       "      <td>bulbasaur</td>\n",
       "      <td>1</td>\n",
       "      <td>7</td>\n",
       "      <td>69</td>\n",
       "      <td>64</td>\n",
       "      <td>1</td>\n",
       "      <td>1</td>\n",
       "      <td>MGA POGING POKEMON</td>\n",
       "    </tr>\n",
       "    <tr>\n",
       "      <th>1</th>\n",
       "      <td>2</td>\n",
       "      <td>ivysaur</td>\n",
       "      <td>2</td>\n",
       "      <td>10</td>\n",
       "      <td>130</td>\n",
       "      <td>142</td>\n",
       "      <td>2</td>\n",
       "      <td>1</td>\n",
       "      <td>MGA POGING POKEMON</td>\n",
       "    </tr>\n",
       "  </tbody>\n",
       "</table>\n",
       "</div>"
      ],
      "text/plain": [
       "   id identifier  species_id  height  weight  base_experience  order  \\\n",
       "0   1  bulbasaur           1       7      69               64      1   \n",
       "1   2    ivysaur           2      10     130              142      2   \n",
       "\n",
       "   is_default          new_column  \n",
       "0           1  MGA POGING POKEMON  \n",
       "1           1  MGA POGING POKEMON  "
      ]
     },
     "execution_count": 23,
     "metadata": {},
     "output_type": "execute_result"
    }
   ],
   "source": [
    "pokemons.head(2)"
   ]
  },
  {
   "cell_type": "code",
   "execution_count": 24,
   "metadata": {
    "collapsed": true
   },
   "outputs": [],
   "source": [
    "pokemons.ix[1,'new_column'] = 'AY HINDI PALA POGI, HALAMAN PALA SILA.'"
   ]
  },
  {
   "cell_type": "code",
   "execution_count": 25,
   "metadata": {
    "collapsed": false
   },
   "outputs": [
    {
     "data": {
      "text/html": [
       "<div>\n",
       "<table border=\"1\" class=\"dataframe\">\n",
       "  <thead>\n",
       "    <tr style=\"text-align: right;\">\n",
       "      <th></th>\n",
       "      <th>id</th>\n",
       "      <th>identifier</th>\n",
       "      <th>species_id</th>\n",
       "      <th>height</th>\n",
       "      <th>weight</th>\n",
       "      <th>base_experience</th>\n",
       "      <th>order</th>\n",
       "      <th>is_default</th>\n",
       "      <th>new_column</th>\n",
       "    </tr>\n",
       "  </thead>\n",
       "  <tbody>\n",
       "    <tr>\n",
       "      <th>0</th>\n",
       "      <td>1</td>\n",
       "      <td>bulbasaur</td>\n",
       "      <td>1</td>\n",
       "      <td>7</td>\n",
       "      <td>69</td>\n",
       "      <td>64</td>\n",
       "      <td>1</td>\n",
       "      <td>1</td>\n",
       "      <td>MGA POGING POKEMON</td>\n",
       "    </tr>\n",
       "    <tr>\n",
       "      <th>1</th>\n",
       "      <td>2</td>\n",
       "      <td>ivysaur</td>\n",
       "      <td>2</td>\n",
       "      <td>10</td>\n",
       "      <td>130</td>\n",
       "      <td>142</td>\n",
       "      <td>2</td>\n",
       "      <td>1</td>\n",
       "      <td>AY HINDI PALA POGI, HALAMAN PALA SILA.</td>\n",
       "    </tr>\n",
       "  </tbody>\n",
       "</table>\n",
       "</div>"
      ],
      "text/plain": [
       "   id identifier  species_id  height  weight  base_experience  order  \\\n",
       "0   1  bulbasaur           1       7      69               64      1   \n",
       "1   2    ivysaur           2      10     130              142      2   \n",
       "\n",
       "   is_default                              new_column  \n",
       "0           1                      MGA POGING POKEMON  \n",
       "1           1  AY HINDI PALA POGI, HALAMAN PALA SILA.  "
      ]
     },
     "execution_count": 25,
     "metadata": {},
     "output_type": "execute_result"
    }
   ],
   "source": [
    "pokemons.head(2)"
   ]
  },
  {
   "cell_type": "markdown",
   "metadata": {},
   "source": [
    "### Evaluating values"
   ]
  },
  {
   "cell_type": "markdown",
   "metadata": {},
   "source": [
    "Discover values of new_column"
   ]
  },
  {
   "cell_type": "code",
   "execution_count": 26,
   "metadata": {
    "collapsed": false
   },
   "outputs": [
    {
     "data": {
      "text/plain": [
       "array(['MGA POGING POKEMON', 'AY HINDI PALA POGI, HALAMAN PALA SILA.'], dtype=object)"
      ]
     },
     "execution_count": 26,
     "metadata": {},
     "output_type": "execute_result"
    }
   ],
   "source": [
    "pd.unique(pokemons['new_column'])"
   ]
  },
  {
   "cell_type": "markdown",
   "metadata": {},
   "source": [
    "### Basic Stats"
   ]
  },
  {
   "cell_type": "code",
   "execution_count": 27,
   "metadata": {
    "collapsed": false
   },
   "outputs": [
    {
     "data": {
      "text/html": [
       "<div>\n",
       "<table border=\"1\" class=\"dataframe\">\n",
       "  <thead>\n",
       "    <tr style=\"text-align: right;\">\n",
       "      <th></th>\n",
       "      <th>id</th>\n",
       "      <th>species_id</th>\n",
       "      <th>height</th>\n",
       "      <th>weight</th>\n",
       "      <th>base_experience</th>\n",
       "      <th>order</th>\n",
       "      <th>is_default</th>\n",
       "    </tr>\n",
       "  </thead>\n",
       "  <tbody>\n",
       "    <tr>\n",
       "      <th>count</th>\n",
       "      <td>811.000000</td>\n",
       "      <td>811.000000</td>\n",
       "      <td>811.000000</td>\n",
       "      <td>811.000000</td>\n",
       "      <td>811.000000</td>\n",
       "      <td>811.000000</td>\n",
       "      <td>811.000000</td>\n",
       "    </tr>\n",
       "    <tr>\n",
       "      <th>mean</th>\n",
       "      <td>1435.728730</td>\n",
       "      <td>360.880395</td>\n",
       "      <td>12.516646</td>\n",
       "      <td>636.096178</td>\n",
       "      <td>151.742293</td>\n",
       "      <td>406.000000</td>\n",
       "      <td>0.889026</td>\n",
       "    </tr>\n",
       "    <tr>\n",
       "      <th>std</th>\n",
       "      <td>3050.119235</td>\n",
       "      <td>209.331096</td>\n",
       "      <td>12.266613</td>\n",
       "      <td>1077.658710</td>\n",
       "      <td>79.150608</td>\n",
       "      <td>234.259827</td>\n",
       "      <td>0.314294</td>\n",
       "    </tr>\n",
       "    <tr>\n",
       "      <th>min</th>\n",
       "      <td>1.000000</td>\n",
       "      <td>1.000000</td>\n",
       "      <td>1.000000</td>\n",
       "      <td>1.000000</td>\n",
       "      <td>36.000000</td>\n",
       "      <td>1.000000</td>\n",
       "      <td>0.000000</td>\n",
       "    </tr>\n",
       "    <tr>\n",
       "      <th>25%</th>\n",
       "      <td>203.500000</td>\n",
       "      <td>181.500000</td>\n",
       "      <td>6.000000</td>\n",
       "      <td>94.500000</td>\n",
       "      <td>67.000000</td>\n",
       "      <td>203.500000</td>\n",
       "      <td>1.000000</td>\n",
       "    </tr>\n",
       "    <tr>\n",
       "      <th>50%</th>\n",
       "      <td>406.000000</td>\n",
       "      <td>362.000000</td>\n",
       "      <td>10.000000</td>\n",
       "      <td>295.000000</td>\n",
       "      <td>158.000000</td>\n",
       "      <td>406.000000</td>\n",
       "      <td>1.000000</td>\n",
       "    </tr>\n",
       "    <tr>\n",
       "      <th>75%</th>\n",
       "      <td>608.500000</td>\n",
       "      <td>538.500000</td>\n",
       "      <td>15.000000</td>\n",
       "      <td>650.000000</td>\n",
       "      <td>189.000000</td>\n",
       "      <td>608.500000</td>\n",
       "      <td>1.000000</td>\n",
       "    </tr>\n",
       "    <tr>\n",
       "      <th>max</th>\n",
       "      <td>10090.000000</td>\n",
       "      <td>721.000000</td>\n",
       "      <td>145.000000</td>\n",
       "      <td>9997.000000</td>\n",
       "      <td>608.000000</td>\n",
       "      <td>811.000000</td>\n",
       "      <td>1.000000</td>\n",
       "    </tr>\n",
       "  </tbody>\n",
       "</table>\n",
       "</div>"
      ],
      "text/plain": [
       "                 id  species_id      height       weight  base_experience  \\\n",
       "count    811.000000  811.000000  811.000000   811.000000       811.000000   \n",
       "mean    1435.728730  360.880395   12.516646   636.096178       151.742293   \n",
       "std     3050.119235  209.331096   12.266613  1077.658710        79.150608   \n",
       "min        1.000000    1.000000    1.000000     1.000000        36.000000   \n",
       "25%      203.500000  181.500000    6.000000    94.500000        67.000000   \n",
       "50%      406.000000  362.000000   10.000000   295.000000       158.000000   \n",
       "75%      608.500000  538.500000   15.000000   650.000000       189.000000   \n",
       "max    10090.000000  721.000000  145.000000  9997.000000       608.000000   \n",
       "\n",
       "            order  is_default  \n",
       "count  811.000000  811.000000  \n",
       "mean   406.000000    0.889026  \n",
       "std    234.259827    0.314294  \n",
       "min      1.000000    0.000000  \n",
       "25%    203.500000    1.000000  \n",
       "50%    406.000000    1.000000  \n",
       "75%    608.500000    1.000000  \n",
       "max    811.000000    1.000000  "
      ]
     },
     "execution_count": 27,
     "metadata": {},
     "output_type": "execute_result"
    }
   ],
   "source": [
    "pokemons.describe()"
   ]
  },
  {
   "cell_type": "markdown",
   "metadata": {},
   "source": [
    "Get a more relevant stats for a more relevant columns"
   ]
  },
  {
   "cell_type": "code",
   "execution_count": 28,
   "metadata": {
    "collapsed": false
   },
   "outputs": [
    {
     "data": {
      "text/html": [
       "<div>\n",
       "<table border=\"1\" class=\"dataframe\">\n",
       "  <thead>\n",
       "    <tr style=\"text-align: right;\">\n",
       "      <th></th>\n",
       "      <th>height</th>\n",
       "      <th>weight</th>\n",
       "      <th>base_experience</th>\n",
       "    </tr>\n",
       "  </thead>\n",
       "  <tbody>\n",
       "    <tr>\n",
       "      <th>count</th>\n",
       "      <td>811.000000</td>\n",
       "      <td>811.000000</td>\n",
       "      <td>811.000000</td>\n",
       "    </tr>\n",
       "    <tr>\n",
       "      <th>mean</th>\n",
       "      <td>12.516646</td>\n",
       "      <td>636.096178</td>\n",
       "      <td>151.742293</td>\n",
       "    </tr>\n",
       "    <tr>\n",
       "      <th>std</th>\n",
       "      <td>12.266613</td>\n",
       "      <td>1077.658710</td>\n",
       "      <td>79.150608</td>\n",
       "    </tr>\n",
       "    <tr>\n",
       "      <th>min</th>\n",
       "      <td>1.000000</td>\n",
       "      <td>1.000000</td>\n",
       "      <td>36.000000</td>\n",
       "    </tr>\n",
       "    <tr>\n",
       "      <th>25%</th>\n",
       "      <td>6.000000</td>\n",
       "      <td>94.500000</td>\n",
       "      <td>67.000000</td>\n",
       "    </tr>\n",
       "    <tr>\n",
       "      <th>50%</th>\n",
       "      <td>10.000000</td>\n",
       "      <td>295.000000</td>\n",
       "      <td>158.000000</td>\n",
       "    </tr>\n",
       "    <tr>\n",
       "      <th>75%</th>\n",
       "      <td>15.000000</td>\n",
       "      <td>650.000000</td>\n",
       "      <td>189.000000</td>\n",
       "    </tr>\n",
       "    <tr>\n",
       "      <th>max</th>\n",
       "      <td>145.000000</td>\n",
       "      <td>9997.000000</td>\n",
       "      <td>608.000000</td>\n",
       "    </tr>\n",
       "  </tbody>\n",
       "</table>\n",
       "</div>"
      ],
      "text/plain": [
       "           height       weight  base_experience\n",
       "count  811.000000   811.000000       811.000000\n",
       "mean    12.516646   636.096178       151.742293\n",
       "std     12.266613  1077.658710        79.150608\n",
       "min      1.000000     1.000000        36.000000\n",
       "25%      6.000000    94.500000        67.000000\n",
       "50%     10.000000   295.000000       158.000000\n",
       "75%     15.000000   650.000000       189.000000\n",
       "max    145.000000  9997.000000       608.000000"
      ]
     },
     "execution_count": 28,
     "metadata": {},
     "output_type": "execute_result"
    }
   ],
   "source": [
    "pokemons[['height','weight','base_experience']].describe()"
   ]
  },
  {
   "cell_type": "code",
   "execution_count": 30,
   "metadata": {
    "collapsed": false
   },
   "outputs": [
    {
     "data": {
      "text/plain": [
       "(array([[<matplotlib.axes._subplots.AxesSubplot object at 0x11a0f7cd0>]], dtype=object),\n",
       " array([[<matplotlib.axes._subplots.AxesSubplot object at 0x11a36ef10>]], dtype=object))"
      ]
     },
     "execution_count": 30,
     "metadata": {},
     "output_type": "execute_result"
    },
    {
     "data": {
      "image/png": "[encoded data removed]",
      "text/plain": [
       "<matplotlib.figure.Figure at 0x11a0f7510>"
      ]
     },
     "metadata": {},
     "output_type": "display_data"
    },
    {
     "data": {
      "image/png": "[encoded data removed]",
      "text/plain": [
       "<matplotlib.figure.Figure at 0x11a178cd0>"
      ]
     },
     "metadata": {},
     "output_type": "display_data"
    }
   ],
   "source": [
    "%matplotlib inline\n",
    "pokemons[['height']].hist(bins=50,figsize=(15,5)), pokemons[['weight']].hist(bins=50,figsize=(15,5))"
   ]
  },
  {
   "cell_type": "markdown",
   "metadata": {},
   "source": [
    "### Filtering Values"
   ]
  },
  {
   "cell_type": "code",
   "execution_count": 31,
   "metadata": {
    "collapsed": false
   },
   "outputs": [
    {
     "data": {
      "text/html": [
       "<div>\n",
       "<table border=\"1\" class=\"dataframe\">\n",
       "  <thead>\n",
       "    <tr style=\"text-align: right;\">\n",
       "      <th></th>\n",
       "      <th>id</th>\n",
       "      <th>identifier</th>\n",
       "      <th>species_id</th>\n",
       "      <th>height</th>\n",
       "      <th>weight</th>\n",
       "      <th>base_experience</th>\n",
       "      <th>order</th>\n",
       "      <th>is_default</th>\n",
       "      <th>new_column</th>\n",
       "    </tr>\n",
       "  </thead>\n",
       "  <tbody>\n",
       "    <tr>\n",
       "      <th>2</th>\n",
       "      <td>3</td>\n",
       "      <td>venusaur</td>\n",
       "      <td>3</td>\n",
       "      <td>20</td>\n",
       "      <td>1000</td>\n",
       "      <td>236</td>\n",
       "      <td>3</td>\n",
       "      <td>1</td>\n",
       "      <td>MGA POGING POKEMON</td>\n",
       "    </tr>\n",
       "    <tr>\n",
       "      <th>5</th>\n",
       "      <td>6</td>\n",
       "      <td>charizard</td>\n",
       "      <td>6</td>\n",
       "      <td>17</td>\n",
       "      <td>905</td>\n",
       "      <td>240</td>\n",
       "      <td>7</td>\n",
       "      <td>1</td>\n",
       "      <td>MGA POGING POKEMON</td>\n",
       "    </tr>\n",
       "  </tbody>\n",
       "</table>\n",
       "</div>"
      ],
      "text/plain": [
       "   id identifier  species_id  height  weight  base_experience  order  \\\n",
       "2   3   venusaur           3      20    1000              236      3   \n",
       "5   6  charizard           6      17     905              240      7   \n",
       "\n",
       "   is_default          new_column  \n",
       "2           1  MGA POGING POKEMON  \n",
       "5           1  MGA POGING POKEMON  "
      ]
     },
     "execution_count": 31,
     "metadata": {},
     "output_type": "execute_result"
    }
   ],
   "source": [
    "filtered_pokemons = pokemons[pokemons['height']>=15]\n",
    "filtered_pokemons.head(2)"
   ]
  },
  {
   "cell_type": "code",
   "execution_count": 32,
   "metadata": {
    "collapsed": false
   },
   "outputs": [
    {
     "data": {
      "text/plain": [
       "array([[<matplotlib.axes._subplots.AxesSubplot object at 0x11c747f50>]], dtype=object)"
      ]
     },
     "execution_count": 32,
     "metadata": {},
     "output_type": "execute_result"
    },
    {
     "data": {
      "image/png": "[encoded data removed]",
      "text/plain": [
       "<matplotlib.figure.Figure at 0x11ce31950>"
      ]
     },
     "metadata": {},
     "output_type": "display_data"
    }
   ],
   "source": [
    "filtered_pokemons[['height']].hist(bins=20,figsize=(15,5))"
   ]
  },
  {
   "cell_type": "markdown",
   "metadata": {},
   "source": [
    "### Merge Data"
   ]
  },
  {
   "cell_type": "code",
   "execution_count": 33,
   "metadata": {
    "collapsed": false
   },
   "outputs": [
    {
     "data": {
      "text/plain": [
       "(Index([u'id', u'identifier', u'generation_id', u'evolves_from_species_id',\n",
       "        u'evolution_chain_id', u'color_id', u'shape_id', u'habitat_id',\n",
       "        u'gender_rate', u'capture_rate', u'base_happiness', u'is_baby',\n",
       "        u'hatch_counter', u'has_gender_differences', u'growth_rate_id',\n",
       "        u'forms_switchable', u'order', u'conquest_order'],\n",
       "       dtype='object'),\n",
       " Index([u'id', u'identifier', u'species_id', u'height', u'weight',\n",
       "        u'base_experience', u'order', u'is_default', u'new_column'],\n",
       "       dtype='object'))"
      ]
     },
     "execution_count": 33,
     "metadata": {},
     "output_type": "execute_result"
    }
   ],
   "source": [
    "pokemon_species.columns, pokemons.columns"
   ]
  },
  {
   "cell_type": "code",
   "execution_count": 34,
   "metadata": {
    "collapsed": false
   },
   "outputs": [],
   "source": [
    "pokemon_species.columns = [u'species_id', u'identifier', u'generation_id', u'evolves_from_species_id',\\\n",
    "        u'evolution_chain_id', u'color_id', u'shape_id', u'habitat_id',\\\n",
    "        u'gender_rate', u'capture_rate', u'base_happiness', u'is_baby',\\\n",
    "        u'hatch_counter', u'has_gender_differences', u'growth_rate_id',\\\n",
    "        u'forms_switchable', u'order', u'conquest_order']"
   ]
  },
  {
   "cell_type": "code",
   "execution_count": 35,
   "metadata": {
    "collapsed": false
   },
   "outputs": [],
   "source": [
    "pokemon_species_merged = pd.DataFrame()\n",
    "pokemon_species_merged = pokemons.merge(pokemon_species,on=['species_id'],how='left')"
   ]
  },
  {
   "cell_type": "code",
   "execution_count": 36,
   "metadata": {
    "collapsed": false
   },
   "outputs": [
    {
     "data": {
      "text/html": [
       "<div>\n",
       "<table border=\"1\" class=\"dataframe\">\n",
       "  <thead>\n",
       "    <tr style=\"text-align: right;\">\n",
       "      <th></th>\n",
       "      <th>id</th>\n",
       "      <th>identifier_x</th>\n",
       "      <th>species_id</th>\n",
       "      <th>height</th>\n",
       "      <th>weight</th>\n",
       "      <th>base_experience</th>\n",
       "      <th>order_x</th>\n",
       "      <th>is_default</th>\n",
       "      <th>new_column</th>\n",
       "      <th>identifier_y</th>\n",
       "      <th>...</th>\n",
       "      <th>gender_rate</th>\n",
       "      <th>capture_rate</th>\n",
       "      <th>base_happiness</th>\n",
       "      <th>is_baby</th>\n",
       "      <th>hatch_counter</th>\n",
       "      <th>has_gender_differences</th>\n",
       "      <th>growth_rate_id</th>\n",
       "      <th>forms_switchable</th>\n",
       "      <th>order_y</th>\n",
       "      <th>conquest_order</th>\n",
       "    </tr>\n",
       "  </thead>\n",
       "  <tbody>\n",
       "    <tr>\n",
       "      <th>0</th>\n",
       "      <td>1</td>\n",
       "      <td>bulbasaur</td>\n",
       "      <td>1</td>\n",
       "      <td>7</td>\n",
       "      <td>69</td>\n",
       "      <td>64</td>\n",
       "      <td>1</td>\n",
       "      <td>1</td>\n",
       "      <td>MGA POGING POKEMON</td>\n",
       "      <td>bulbasaur</td>\n",
       "      <td>...</td>\n",
       "      <td>1</td>\n",
       "      <td>45</td>\n",
       "      <td>70</td>\n",
       "      <td>0</td>\n",
       "      <td>20</td>\n",
       "      <td>0</td>\n",
       "      <td>4</td>\n",
       "      <td>0</td>\n",
       "      <td>1</td>\n",
       "      <td>NaN</td>\n",
       "    </tr>\n",
       "    <tr>\n",
       "      <th>1</th>\n",
       "      <td>2</td>\n",
       "      <td>ivysaur</td>\n",
       "      <td>2</td>\n",
       "      <td>10</td>\n",
       "      <td>130</td>\n",
       "      <td>142</td>\n",
       "      <td>2</td>\n",
       "      <td>1</td>\n",
       "      <td>AY HINDI PALA POGI, HALAMAN PALA SILA.</td>\n",
       "      <td>ivysaur</td>\n",
       "      <td>...</td>\n",
       "      <td>1</td>\n",
       "      <td>45</td>\n",
       "      <td>70</td>\n",
       "      <td>0</td>\n",
       "      <td>20</td>\n",
       "      <td>0</td>\n",
       "      <td>4</td>\n",
       "      <td>0</td>\n",
       "      <td>2</td>\n",
       "      <td>NaN</td>\n",
       "    </tr>\n",
       "  </tbody>\n",
       "</table>\n",
       "<p>2 rows × 26 columns</p>\n",
       "</div>"
      ],
      "text/plain": [
       "   id identifier_x  species_id  height  weight  base_experience  order_x  \\\n",
       "0   1    bulbasaur           1       7      69               64        1   \n",
       "1   2      ivysaur           2      10     130              142        2   \n",
       "\n",
       "   is_default                              new_column identifier_y  \\\n",
       "0           1                      MGA POGING POKEMON    bulbasaur   \n",
       "1           1  AY HINDI PALA POGI, HALAMAN PALA SILA.      ivysaur   \n",
       "\n",
       "        ...        gender_rate  capture_rate  base_happiness  is_baby  \\\n",
       "0       ...                  1            45              70        0   \n",
       "1       ...                  1            45              70        0   \n",
       "\n",
       "   hatch_counter  has_gender_differences  growth_rate_id  forms_switchable  \\\n",
       "0             20                       0               4                 0   \n",
       "1             20                       0               4                 0   \n",
       "\n",
       "   order_y  conquest_order  \n",
       "0        1             NaN  \n",
       "1        2             NaN  \n",
       "\n",
       "[2 rows x 26 columns]"
      ]
     },
     "execution_count": 36,
     "metadata": {},
     "output_type": "execute_result"
    }
   ],
   "source": [
    "pokemon_species_merged.head(2)"
   ]
  },
  {
   "cell_type": "code",
   "execution_count": 37,
   "metadata": {
    "collapsed": false
   },
   "outputs": [],
   "source": [
    "pokemon_species_names_english = pokemon_species_names[pokemon_species_names.local_language_id==9]\n",
    "pokemon_species_names_english.columns = [u'species_id', u'local_language_id', u'name', u'genus']\n",
    "pokemon_species_merged_english = pokemon_species_merged.merge(pokemon_species_names_english,\\\n",
    "                                                             on=['species_id'],how='left')"
   ]
  },
  {
   "cell_type": "code",
   "execution_count": 38,
   "metadata": {
    "collapsed": false
   },
   "outputs": [
    {
     "data": {
      "text/plain": [
       "Index([                     u'id',            u'identifier_x',\n",
       "                    u'species_id',                  u'height',\n",
       "                        u'weight',         u'base_experience',\n",
       "                       u'order_x',              u'is_default',\n",
       "                    u'new_column',            u'identifier_y',\n",
       "                 u'generation_id', u'evolves_from_species_id',\n",
       "            u'evolution_chain_id',                u'color_id',\n",
       "                      u'shape_id',              u'habitat_id',\n",
       "                   u'gender_rate',            u'capture_rate',\n",
       "                u'base_happiness',                 u'is_baby',\n",
       "                 u'hatch_counter',  u'has_gender_differences',\n",
       "                u'growth_rate_id',        u'forms_switchable',\n",
       "                       u'order_y',          u'conquest_order',\n",
       "             u'local_language_id',                    u'name',\n",
       "                         u'genus'],\n",
       "      dtype='object')"
      ]
     },
     "execution_count": 38,
     "metadata": {},
     "output_type": "execute_result"
    }
   ],
   "source": [
    "pokemon_species_merged_english.columns"
   ]
  },
  {
   "cell_type": "markdown",
   "metadata": {},
   "source": [
    "### Aggregations"
   ]
  },
  {
   "cell_type": "code",
   "execution_count": 39,
   "metadata": {
    "collapsed": false
   },
   "outputs": [
    {
     "data": {
      "text/html": [
       "<div>\n",
       "<table border=\"1\" class=\"dataframe\">\n",
       "  <thead>\n",
       "    <tr style=\"text-align: right;\">\n",
       "      <th></th>\n",
       "      <th>id</th>\n",
       "      <th>weight</th>\n",
       "      <th>height</th>\n",
       "    </tr>\n",
       "    <tr>\n",
       "      <th>genus</th>\n",
       "      <th></th>\n",
       "      <th></th>\n",
       "      <th></th>\n",
       "    </tr>\n",
       "  </thead>\n",
       "  <tbody>\n",
       "    <tr>\n",
       "      <th>Wool</th>\n",
       "      <td>2</td>\n",
       "      <td>105.5</td>\n",
       "      <td>7.0</td>\n",
       "    </tr>\n",
       "    <tr>\n",
       "      <th>Worm</th>\n",
       "      <td>2</td>\n",
       "      <td>32.5</td>\n",
       "      <td>3.0</td>\n",
       "    </tr>\n",
       "    <tr>\n",
       "      <th>Wrestling</th>\n",
       "      <td>1</td>\n",
       "      <td>215.0</td>\n",
       "      <td>8.0</td>\n",
       "    </tr>\n",
       "    <tr>\n",
       "      <th>Young Fowl</th>\n",
       "      <td>1</td>\n",
       "      <td>195.0</td>\n",
       "      <td>9.0</td>\n",
       "    </tr>\n",
       "    <tr>\n",
       "      <th>Zen Charm</th>\n",
       "      <td>1</td>\n",
       "      <td>375.0</td>\n",
       "      <td>6.0</td>\n",
       "    </tr>\n",
       "  </tbody>\n",
       "</table>\n",
       "</div>"
      ],
      "text/plain": [
       "            id  weight  height\n",
       "genus                         \n",
       "Wool         2   105.5     7.0\n",
       "Worm         2    32.5     3.0\n",
       "Wrestling    1   215.0     8.0\n",
       "Young Fowl   1   195.0     9.0\n",
       "Zen Charm    1   375.0     6.0"
      ]
     },
     "execution_count": 39,
     "metadata": {},
     "output_type": "execute_result"
    }
   ],
   "source": [
    "pokemon_species_merged_agg = pokemon_species_merged_english.groupby(\"genus\").agg({'id': np.count_nonzero, \\\n",
    "                                             'height': np.mean,\\\n",
    "                                             'weight': np.median})\n",
    "pokemon_species_merged_agg.tail(5)"
   ]
  },
  {
   "cell_type": "code",
   "execution_count": 40,
   "metadata": {
    "collapsed": false
   },
   "outputs": [
    {
     "data": {
      "text/html": [
       "<div>\n",
       "<table border=\"1\" class=\"dataframe\">\n",
       "  <thead>\n",
       "    <tr style=\"text-align: right;\">\n",
       "      <th></th>\n",
       "      <th>id</th>\n",
       "      <th>identifier_x</th>\n",
       "      <th>species_id</th>\n",
       "      <th>height</th>\n",
       "      <th>weight</th>\n",
       "      <th>base_experience</th>\n",
       "      <th>order_x</th>\n",
       "      <th>is_default</th>\n",
       "      <th>new_column</th>\n",
       "      <th>identifier_y</th>\n",
       "      <th>...</th>\n",
       "      <th>is_baby</th>\n",
       "      <th>hatch_counter</th>\n",
       "      <th>has_gender_differences</th>\n",
       "      <th>growth_rate_id</th>\n",
       "      <th>forms_switchable</th>\n",
       "      <th>order_y</th>\n",
       "      <th>conquest_order</th>\n",
       "      <th>local_language_id</th>\n",
       "      <th>name</th>\n",
       "      <th>genus</th>\n",
       "    </tr>\n",
       "  </thead>\n",
       "  <tbody>\n",
       "    <tr>\n",
       "      <th>9</th>\n",
       "      <td>10</td>\n",
       "      <td>caterpie</td>\n",
       "      <td>10</td>\n",
       "      <td>3</td>\n",
       "      <td>29</td>\n",
       "      <td>39</td>\n",
       "      <td>14</td>\n",
       "      <td>1</td>\n",
       "      <td>MGA POGING POKEMON</td>\n",
       "      <td>caterpie</td>\n",
       "      <td>...</td>\n",
       "      <td>0</td>\n",
       "      <td>15</td>\n",
       "      <td>0</td>\n",
       "      <td>2</td>\n",
       "      <td>0</td>\n",
       "      <td>10</td>\n",
       "      <td>NaN</td>\n",
       "      <td>9</td>\n",
       "      <td>Caterpie</td>\n",
       "      <td>Worm</td>\n",
       "    </tr>\n",
       "    <tr>\n",
       "      <th>264</th>\n",
       "      <td>265</td>\n",
       "      <td>wurmple</td>\n",
       "      <td>265</td>\n",
       "      <td>3</td>\n",
       "      <td>36</td>\n",
       "      <td>39</td>\n",
       "      <td>320</td>\n",
       "      <td>1</td>\n",
       "      <td>MGA POGING POKEMON</td>\n",
       "      <td>wurmple</td>\n",
       "      <td>...</td>\n",
       "      <td>0</td>\n",
       "      <td>15</td>\n",
       "      <td>0</td>\n",
       "      <td>2</td>\n",
       "      <td>0</td>\n",
       "      <td>290</td>\n",
       "      <td>NaN</td>\n",
       "      <td>9</td>\n",
       "      <td>Wurmple</td>\n",
       "      <td>Worm</td>\n",
       "    </tr>\n",
       "  </tbody>\n",
       "</table>\n",
       "<p>2 rows × 29 columns</p>\n",
       "</div>"
      ],
      "text/plain": [
       "      id identifier_x  species_id  height  weight  base_experience  order_x  \\\n",
       "9     10     caterpie          10       3      29               39       14   \n",
       "264  265      wurmple         265       3      36               39      320   \n",
       "\n",
       "     is_default          new_column identifier_y  ...    is_baby  \\\n",
       "9             1  MGA POGING POKEMON     caterpie  ...          0   \n",
       "264           1  MGA POGING POKEMON      wurmple  ...          0   \n",
       "\n",
       "     hatch_counter  has_gender_differences  growth_rate_id  forms_switchable  \\\n",
       "9               15                       0               2                 0   \n",
       "264             15                       0               2                 0   \n",
       "\n",
       "     order_y  conquest_order  local_language_id      name  genus  \n",
       "9         10             NaN                  9  Caterpie   Worm  \n",
       "264      290             NaN                  9   Wurmple   Worm  \n",
       "\n",
       "[2 rows x 29 columns]"
      ]
     },
     "execution_count": 40,
     "metadata": {},
     "output_type": "execute_result"
    }
   ],
   "source": [
    "pokemon_species_merged_english[pokemon_species_merged_english.genus=='Worm']"
   ]
  },
  {
   "cell_type": "code",
   "execution_count": 41,
   "metadata": {
    "collapsed": false
   },
   "outputs": [
    {
     "data": {
      "text/plain": [
       "2"
      ]
     },
     "execution_count": 41,
     "metadata": {},
     "output_type": "execute_result"
    }
   ],
   "source": [
    "pokemon_species_merged_english['id'][pokemon_species_merged_english.genus=='Worm'].count()"
   ]
  },
  {
   "cell_type": "markdown",
   "metadata": {},
   "source": [
    "### Transform DataFrames (rows as columns)"
   ]
  },
  {
   "cell_type": "code",
   "execution_count": 42,
   "metadata": {
    "collapsed": false
   },
   "outputs": [
    {
     "data": {
      "text/html": [
       "<div>\n",
       "<table border=\"1\" class=\"dataframe\">\n",
       "  <thead>\n",
       "    <tr style=\"text-align: right;\">\n",
       "      <th>genus</th>\n",
       "      <th>Abundance</th>\n",
       "      <th>Acorn</th>\n",
       "      <th>Alpha</th>\n",
       "      <th>Angler</th>\n",
       "      <th>Ant Pit</th>\n",
       "      <th>Anteater</th>\n",
       "      <th>Antenna</th>\n",
       "      <th>Aqua Mouse</th>\n",
       "      <th>Aqua Rabbit</th>\n",
       "      <th>Arm Thrust</th>\n",
       "      <th>...</th>\n",
       "      <th>Wind Chime</th>\n",
       "      <th>Windveiled</th>\n",
       "      <th>Wing Fish</th>\n",
       "      <th>Wish</th>\n",
       "      <th>Wood Gecko</th>\n",
       "      <th>Wool</th>\n",
       "      <th>Worm</th>\n",
       "      <th>Wrestling</th>\n",
       "      <th>Young Fowl</th>\n",
       "      <th>Zen Charm</th>\n",
       "    </tr>\n",
       "  </thead>\n",
       "  <tbody>\n",
       "    <tr>\n",
       "      <th>id</th>\n",
       "      <td>2.0</td>\n",
       "      <td>1.0</td>\n",
       "      <td>1.0</td>\n",
       "      <td>1.0</td>\n",
       "      <td>1.0</td>\n",
       "      <td>1.0</td>\n",
       "      <td>1.0</td>\n",
       "      <td>1.0</td>\n",
       "      <td>1.0</td>\n",
       "      <td>1.0</td>\n",
       "      <td>...</td>\n",
       "      <td>1.0</td>\n",
       "      <td>1.0</td>\n",
       "      <td>1.0</td>\n",
       "      <td>1.0</td>\n",
       "      <td>2.0</td>\n",
       "      <td>2.0</td>\n",
       "      <td>2.0</td>\n",
       "      <td>1.0</td>\n",
       "      <td>1.0</td>\n",
       "      <td>1.0</td>\n",
       "    </tr>\n",
       "    <tr>\n",
       "      <th>weight</th>\n",
       "      <td>680.0</td>\n",
       "      <td>40.0</td>\n",
       "      <td>3200.0</td>\n",
       "      <td>120.0</td>\n",
       "      <td>150.0</td>\n",
       "      <td>580.0</td>\n",
       "      <td>22.0</td>\n",
       "      <td>85.0</td>\n",
       "      <td>285.0</td>\n",
       "      <td>2538.0</td>\n",
       "      <td>...</td>\n",
       "      <td>10.0</td>\n",
       "      <td>66.0</td>\n",
       "      <td>70.0</td>\n",
       "      <td>11.0</td>\n",
       "      <td>133.0</td>\n",
       "      <td>105.5</td>\n",
       "      <td>32.5</td>\n",
       "      <td>215.0</td>\n",
       "      <td>195.0</td>\n",
       "      <td>375.0</td>\n",
       "    </tr>\n",
       "    <tr>\n",
       "      <th>height</th>\n",
       "      <td>14.0</td>\n",
       "      <td>5.0</td>\n",
       "      <td>32.0</td>\n",
       "      <td>5.0</td>\n",
       "      <td>7.0</td>\n",
       "      <td>14.0</td>\n",
       "      <td>2.0</td>\n",
       "      <td>4.0</td>\n",
       "      <td>8.0</td>\n",
       "      <td>23.0</td>\n",
       "      <td>...</td>\n",
       "      <td>6.0</td>\n",
       "      <td>7.0</td>\n",
       "      <td>4.0</td>\n",
       "      <td>3.0</td>\n",
       "      <td>7.0</td>\n",
       "      <td>7.0</td>\n",
       "      <td>3.0</td>\n",
       "      <td>8.0</td>\n",
       "      <td>9.0</td>\n",
       "      <td>6.0</td>\n",
       "    </tr>\n",
       "  </tbody>\n",
       "</table>\n",
       "<p>3 rows × 524 columns</p>\n",
       "</div>"
      ],
      "text/plain": [
       "genus   Abundance  Acorn   Alpha  Angler  Ant Pit  Anteater  Antenna  \\\n",
       "id            2.0    1.0     1.0     1.0      1.0       1.0      1.0   \n",
       "weight      680.0   40.0  3200.0   120.0    150.0     580.0     22.0   \n",
       "height       14.0    5.0    32.0     5.0      7.0      14.0      2.0   \n",
       "\n",
       "genus   Aqua Mouse  Aqua Rabbit  Arm Thrust    ...      Wind Chime  \\\n",
       "id             1.0          1.0         1.0    ...             1.0   \n",
       "weight        85.0        285.0      2538.0    ...            10.0   \n",
       "height         4.0          8.0        23.0    ...             6.0   \n",
       "\n",
       "genus   Windveiled  Wing Fish  Wish  Wood Gecko   Wool  Worm  Wrestling  \\\n",
       "id             1.0        1.0   1.0         2.0    2.0   2.0        1.0   \n",
       "weight        66.0       70.0  11.0       133.0  105.5  32.5      215.0   \n",
       "height         7.0        4.0   3.0         7.0    7.0   3.0        8.0   \n",
       "\n",
       "genus   Young Fowl  Zen Charm  \n",
       "id             1.0        1.0  \n",
       "weight       195.0      375.0  \n",
       "height         9.0        6.0  \n",
       "\n",
       "[3 rows x 524 columns]"
      ]
     },
     "execution_count": 42,
     "metadata": {},
     "output_type": "execute_result"
    }
   ],
   "source": [
    "pokemon_species_merged_agg.T"
   ]
  }
 ],
 "metadata": {
  "kernelspec": {
   "display_name": "Python 2",
   "language": "python",
   "name": "python2"
  },
  "language_info": {
   "codemirror_mode": {
    "name": "ipython",
    "version": 2
   },
   "file_extension": ".py",
   "mimetype": "text/x-python",
   "name": "python",
   "nbconvert_exporter": "python",
   "pygments_lexer": "ipython2",
   "version": "2.7.11"
  }
 },
 "nbformat": 4,
 "nbformat_minor": 0
}
